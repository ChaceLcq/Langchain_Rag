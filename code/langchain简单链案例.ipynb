{
 "cells": [
  {
   "cell_type": "code",
   "execution_count": 1,
   "metadata": {},
   "outputs": [
    {
     "data": {
      "text/plain": [
       "'在《三国演义》中，曹操是一个非常复杂的角色。他既有强烈的忠诚之心，也有着丰富的智谋和勇气。\\n\\n曹操的主要性格特征有：沉稳、狡猾、善变等。他的决策能力也非常强，能够在关键时刻做出正确的判断。\\n\\n此外，曹操还有着很强的权力欲望，他希望通过自己的努力来实现更大的目标。因此，在《三国演义》中，曹操是一个非常复杂的人物形象。\\n'"
      ]
     },
     "execution_count": 1,
     "metadata": {},
     "output_type": "execute_result"
    }
   ],
   "source": [
    "from langchain_community.llms import Ollama#导入ollama包\n",
    "from langchain_core.prompts import ChatPromptTemplate#提示词\n",
    "from langchain_core.output_parsers import StrOutputParser#输出解析器\n",
    "\n",
    "\n",
    "prompt = ChatPromptTemplate.from_template(\"《三国演义》{topic}介绍\")\n",
    "\n",
    "model = Ollama(model=\"qwen:0.5b\")\n",
    "\n",
    "output_parser = StrOutputParser()\n",
    "\n",
    "chain = prompt | model | output_parser#练成一条链\n",
    "\n",
    "chain.invoke({\"topic\": \"曹操\"})"
   ]
  }
 ],
 "metadata": {
  "kernelspec": {
   "display_name": "Python 3",
   "language": "python",
   "name": "python3"
  },
  "language_info": {
   "codemirror_mode": {
    "name": "ipython",
    "version": 3
   },
   "file_extension": ".py",
   "mimetype": "text/x-python",
   "name": "python",
   "nbconvert_exporter": "python",
   "pygments_lexer": "ipython3",
   "version": "3.11.4"
  }
 },
 "nbformat": 4,
 "nbformat_minor": 2
}
